{
 "cells": [
  {
   "cell_type": "markdown",
   "metadata": {},
   "source": [
    "### Gerenciamento do diretório do projeto"
   ]
  },
  {
   "cell_type": "code",
   "execution_count": 1,
   "metadata": {},
   "outputs": [],
   "source": [
    "import sys\n",
    "import os\n",
    "script_dir = os.getcwd() # coleata o diretorio do projeto atual\n",
    "sys.path.append(script_dir)"
   ]
  },
  {
   "cell_type": "markdown",
   "metadata": {},
   "source": [
    "### Imports necessários para o uso do Gemini"
   ]
  },
  {
   "cell_type": "code",
   "execution_count": 2,
   "metadata": {},
   "outputs": [],
   "source": [
    "import pandas as pd\n",
    "from time import sleep\n",
    "import pickle\n",
    "from dotenv import load_dotenv, find_dotenv\n",
    "import google.generativeai as gemini\n",
    "import google.generativeai.client as client"
   ]
  },
  {
   "cell_type": "markdown",
   "metadata": {},
   "source": [
    "### Gerenciamento da Key necessária para uso da API do Gemini\n",
    "\n",
    "Para uma melhor modularização do código num geral, decidimos usar funções que serão chamadas no decorrer do código\n",
    "\n",
    "`carrega_chave()`: Carrega a chave de API do Google a partir de um arquivo .env e a configura para uso.\n",
    "\n",
    "`verifica_chave()`: Verifica se o arquivo .env existe e retorna seu caminho."
   ]
  },
  {
   "cell_type": "code",
   "execution_count": 3,
   "metadata": {},
   "outputs": [],
   "source": [
    "def carrega_chave(): # Carrega uma chave do arquivo .env\n",
    "    _ = load_dotenv(find_dotenv())\n",
    "    chave = os.getenv(\"GOOGLE_API_KEY\")\n",
    "    gemini.configure(api_key=os.getenv('GOOGLE_API_KEY'))\n",
    "\n",
    "    print(f\"Chave API carregada com sucesso!\")\n",
    "    return chave\n",
    "\n",
    "def verifica_chave(): # Verifica a existência de um arquivo .env \n",
    "    return find_dotenv()\n"
   ]
  },
  {
   "cell_type": "code",
   "execution_count": 4,
   "metadata": {},
   "outputs": [
    {
     "name": "stdout",
     "output_type": "stream",
     "text": [
      "Chave API carregada com sucesso!\n"
     ]
    }
   ],
   "source": [
    "chave = carrega_chave()"
   ]
  },
  {
   "cell_type": "code",
   "execution_count": 5,
   "metadata": {},
   "outputs": [],
   "source": [
    "# Carregando o modelo\n",
    "model = gemini.GenerativeModel('gemini-1.5-flash')"
   ]
  },
  {
   "cell_type": "markdown",
   "metadata": {},
   "source": [
    "### Carregando a base de dados que contém tanto o enunciado quando as alternativas em uma única String"
   ]
  },
  {
   "cell_type": "code",
   "execution_count": 6,
   "metadata": {},
   "outputs": [
    {
     "data": {
      "text/html": [
       "<div>\n",
       "<style scoped>\n",
       "    .dataframe tbody tr th:only-of-type {\n",
       "        vertical-align: middle;\n",
       "    }\n",
       "\n",
       "    .dataframe tbody tr th {\n",
       "        vertical-align: top;\n",
       "    }\n",
       "\n",
       "    .dataframe thead th {\n",
       "        text-align: right;\n",
       "    }\n",
       "</style>\n",
       "<table border=\"1\" class=\"dataframe\">\n",
       "  <thead>\n",
       "    <tr style=\"text-align: right;\">\n",
       "      <th></th>\n",
       "      <th>Ano</th>\n",
       "      <th>Enunciado</th>\n",
       "      <th>Alternativa_A</th>\n",
       "      <th>Alternativa_B</th>\n",
       "      <th>Alternativa_C</th>\n",
       "      <th>Alternativa_D</th>\n",
       "      <th>Alternativa_E</th>\n",
       "      <th>Area_de_Conhecimento</th>\n",
       "    </tr>\n",
       "  </thead>\n",
       "  <tbody>\n",
       "    <tr>\n",
       "      <th>0</th>\n",
       "      <td>2020</td>\n",
       "      <td>bienalsur una invitación cruz la front ded señ...</td>\n",
       "      <td>nov cri propósit dea apont divers obr artíst e...</td>\n",
       "      <td>inspir transform econôm política país europ</td>\n",
       "      <td>acus artist expõ obr local pouc tradic</td>\n",
       "      <td>promov social difer artist popul geral</td>\n",
       "      <td>realiz expos artíst sobr event espor jog olímp</td>\n",
       "      <td>Linguagens</td>\n",
       "    </tr>\n",
       "    <tr>\n",
       "      <th>1</th>\n",
       "      <td>2020</td>\n",
       "      <td>españ corazón feder dim una gran sorpr hab pre...</td>\n",
       "      <td>eder garcí lorc ness episódi uso express alimó...</td>\n",
       "      <td>admir tour manifest discurs escri</td>\n",
       "      <td>surpr discurs escri receb públic</td>\n",
       "      <td>conhec escri acerc tradic tour espanhol</td>\n",
       "      <td>perspicác escri discurs inspir form tour</td>\n",
       "      <td>Linguagens</td>\n",
       "    </tr>\n",
       "    <tr>\n",
       "      <th>2</th>\n",
       "      <td>2020</td>\n",
       "      <td>dispon httpinversorsaludcom acess 18 ago 2017 ...</td>\n",
       "      <td>condicionando exerc ativ comunitár</td>\n",
       "      <td>ora incluindos açõ ora ordenando inform</td>\n",
       "      <td>ora instruindo ato ora reprimindo falh</td>\n",
       "      <td>adicion voz post diverg açõ mor</td>\n",
       "      <td>impondos voz autoridad órg governament</td>\n",
       "      <td>Linguagens</td>\n",
       "    </tr>\n",
       "    <tr>\n",
       "      <th>3</th>\n",
       "      <td>2020</td>\n",
       "      <td>lo orígen habit expresíon che hay alg má argen...</td>\n",
       "      <td>xpress reflet quant imigr usu vocábul</td>\n",
       "      <td>perspec filólog uso dess palavr</td>\n",
       "      <td>identific argentin palavr che</td>\n",
       "      <td>divers form dess variedad castelh</td>\n",
       "      <td>impos língu espanhol sobr língu indígen</td>\n",
       "      <td>Linguagens</td>\n",
       "    </tr>\n",
       "    <tr>\n",
       "      <th>4</th>\n",
       "      <td>2020</td>\n",
       "      <td>habl con acent andaluz telediari la 9 hac uno ...</td>\n",
       "      <td>ora acord discuss autor defend soberan fal sob...</td>\n",
       "      <td>estranh percep fal andaluz</td>\n",
       "      <td>lut andaluz divers linguís</td>\n",
       "      <td>hegemon sotaqu bas prestígi soc</td>\n",
       "      <td>vis estereotip própri andaluz acerc fal</td>\n",
       "      <td>Linguagens</td>\n",
       "    </tr>\n",
       "  </tbody>\n",
       "</table>\n",
       "</div>"
      ],
      "text/plain": [
       "    Ano                                          Enunciado  \\\n",
       "0  2020  bienalsur una invitación cruz la front ded señ...   \n",
       "1  2020  españ corazón feder dim una gran sorpr hab pre...   \n",
       "2  2020  dispon httpinversorsaludcom acess 18 ago 2017 ...   \n",
       "3  2020  lo orígen habit expresíon che hay alg má argen...   \n",
       "4  2020  habl con acent andaluz telediari la 9 hac uno ...   \n",
       "\n",
       "                                       Alternativa_A  \\\n",
       "0  nov cri propósit dea apont divers obr artíst e...   \n",
       "1  eder garcí lorc ness episódi uso express alimó...   \n",
       "2                 condicionando exerc ativ comunitár   \n",
       "3              xpress reflet quant imigr usu vocábul   \n",
       "4  ora acord discuss autor defend soberan fal sob...   \n",
       "\n",
       "                                 Alternativa_B  \\\n",
       "0  inspir transform econôm política país europ   \n",
       "1            admir tour manifest discurs escri   \n",
       "2      ora incluindos açõ ora ordenando inform   \n",
       "3              perspec filólog uso dess palavr   \n",
       "4                   estranh percep fal andaluz   \n",
       "\n",
       "                            Alternativa_C  \\\n",
       "0  acus artist expõ obr local pouc tradic   \n",
       "1        surpr discurs escri receb públic   \n",
       "2  ora instruindo ato ora reprimindo falh   \n",
       "3           identific argentin palavr che   \n",
       "4              lut andaluz divers linguís   \n",
       "\n",
       "                             Alternativa_D  \\\n",
       "0   promov social difer artist popul geral   \n",
       "1  conhec escri acerc tradic tour espanhol   \n",
       "2          adicion voz post diverg açõ mor   \n",
       "3        divers form dess variedad castelh   \n",
       "4          hegemon sotaqu bas prestígi soc   \n",
       "\n",
       "                                    Alternativa_E Area_de_Conhecimento  \n",
       "0  realiz expos artíst sobr event espor jog olímp           Linguagens  \n",
       "1        perspicác escri discurs inspir form tour           Linguagens  \n",
       "2          impondos voz autoridad órg governament           Linguagens  \n",
       "3         impos língu espanhol sobr língu indígen           Linguagens  \n",
       "4         vis estereotip própri andaluz acerc fal           Linguagens  "
      ]
     },
     "execution_count": 6,
     "metadata": {},
     "output_type": "execute_result"
    }
   ],
   "source": [
    "data = pd.read_csv(r'CSV\\alternativas_separadas_pp.csv')\n",
    "data.head(5)"
   ]
  },
  {
   "cell_type": "markdown",
   "metadata": {},
   "source": [
    "### Função que faz a requisição para a API do Gemini\n",
    "\n",
    "Contém um simples prompt a ser enviado ao Gemini, cujo consiste em explicar a classificação a ser feita antes de passar a questão, o Gemini então, retorna uma string numérica de 0 a 3 de acordo com a classificação da questão:\n",
    "\n",
    "`0 = Linguagens`\n",
    "\n",
    "`1 = Ciências Humanas`\n",
    "\n",
    "`2 = Ciências da Natuerza`\n",
    "\n",
    "`3 = Matemática`\n"
   ]
  },
  {
   "cell_type": "code",
   "execution_count": 7,
   "metadata": {},
   "outputs": [],
   "source": [
    "def envia_geminho(questao):\n",
    "    return model.generate_content(f\"você receberá uma questão de uma prova, quero que você classifique entre Linguagens = 0, Ciências Humanas = 1, Ciências da Natureza = 2, Matemática = 3, lembrando que para considerar linguagens pode ser uma pergunta de inglês, português ou espanhol. Para me fornecer a saída, basta unicamente escrever o número correspondente. A questão é: {questao}\")"
   ]
  },
  {
   "cell_type": "markdown",
   "metadata": {},
   "source": [
    "### Mandando as perguntas para o Gemini"
   ]
  },
  {
   "cell_type": "markdown",
   "metadata": {},
   "source": [
    "`enum_alt` é a variável que guarda apenas a String contendo o enunciado e as alternativas citado anteriormente."
   ]
  },
  {
   "cell_type": "code",
   "execution_count": 8,
   "metadata": {},
   "outputs": [
    {
     "data": {
      "text/plain": [
       "792"
      ]
     },
     "execution_count": 8,
     "metadata": {},
     "output_type": "execute_result"
    }
   ],
   "source": [
    "enum_alt = data[\"Enunciado\"]\n",
    "len(enum_alt)"
   ]
  },
  {
   "cell_type": "markdown",
   "metadata": {},
   "source": [
    "`numero_req` é a variável que limita em 5 requisições de forma que, independente do tamanho da base de entrada, ainda serão 5 requisições não abrindo brechas para quebra de código."
   ]
  },
  {
   "cell_type": "code",
   "execution_count": 9,
   "metadata": {},
   "outputs": [
    {
     "data": {
      "text/plain": [
       "159"
      ]
     },
     "execution_count": 9,
     "metadata": {},
     "output_type": "execute_result"
    }
   ],
   "source": [
    "mumero_req = len(enum_alt) // 5 + 1  if len(enum_alt) % 5 != 0 else len(enum_alt) // 5\n",
    "mumero_req"
   ]
  },
  {
   "cell_type": "markdown",
   "metadata": {},
   "source": [
    "Essa label é quem faz efetivamente a requisição, ela funciona de acordo com as características da API do gemini flash usado para esse projeto.\n",
    "\n",
    "De modo que são feitas 15 requisições por minuto até totalizar toda a base de input."
   ]
  },
  {
   "cell_type": "code",
   "execution_count": 10,
   "metadata": {},
   "outputs": [],
   "source": [
    "respostas_anteriores = []\n",
    "contador = 0\n",
    "\n",
    "for questao in enum_alt:\n",
    "    if contador == 15:\n",
    "        contador = 0\n",
    "        sleep(60)\n",
    "    \n",
    "    resp = envia_geminho(questao)\n",
    "    \n",
    "    contador += 1\n",
    "    respostas_anteriores.append(resp)"
   ]
  },
  {
   "cell_type": "markdown",
   "metadata": {},
   "source": [
    "E por fim, é salvo com uso da biblioteca pickle, as respostas dadas pela API do Gemini em `lista_1a1.pkl`"
   ]
  },
  {
   "cell_type": "code",
   "execution_count": 11,
   "metadata": {},
   "outputs": [],
   "source": [
    "# Salvando a lista em um arquivo\n",
    "with open('lista_enum_1a1_pp.pkl', 'wb') as file:\n",
    "    pickle.dump(respostas_anteriores, file)"
   ]
  }
 ],
 "metadata": {
  "kernelspec": {
   "display_name": "Python 3",
   "language": "python",
   "name": "python3"
  },
  "language_info": {
   "codemirror_mode": {
    "name": "ipython",
    "version": 3
   },
   "file_extension": ".py",
   "mimetype": "text/x-python",
   "name": "python",
   "nbconvert_exporter": "python",
   "pygments_lexer": "ipython3",
   "version": "3.11.4"
  }
 },
 "nbformat": 4,
 "nbformat_minor": 2
}
